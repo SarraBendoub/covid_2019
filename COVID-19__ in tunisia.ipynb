{
 "cells": [
  {
   "cell_type": "markdown",
   "id": "496278ee",
   "metadata": {},
   "source": [
    "# extraire les lignes des tunisiens locaux dans une liste"
   ]
  },
  {
   "cell_type": "code",
   "execution_count": 2,
   "id": "a5485083",
   "metadata": {},
   "outputs": [
    {
     "name": "stdout",
     "output_type": "stream",
     "text": [
      "28\n"
     ]
    }
   ],
   "source": [
    "f = open ('datasets/corona.txt','r')\n",
    "b=f.readlines()\n",
    "l0=[]                                            \n",
    "l1=[]\n",
    "for ligne in b:\n",
    "    l=ligne.split(';')\n",
    "    if l[5] == \"Local\" :\n",
    "        l0.append(ligne)\n",
    "    if l[6] == \"Local\":\n",
    "        l1.append(ligne)\n",
    "f.close()\n",
    "l3=l0+l1\n",
    "print(len(l3))"
   ]
  },
  {
   "cell_type": "markdown",
   "id": "a45f5674",
   "metadata": {},
   "source": [
    "# creation un fichier des tunisiens locaux"
   ]
  },
  {
   "cell_type": "code",
   "execution_count": 10,
   "id": "a4450f0c",
   "metadata": {},
   "outputs": [],
   "source": [
    "f= open (\"local__1.txt\",\"w\")\n",
    "f.writelines(l3)\n",
    "f.close()"
   ]
  },
  {
   "cell_type": "markdown",
   "id": "87910166",
   "metadata": {},
   "source": [
    "# extraire les lignes des tunisiens qui revient de l'étranger dans une liste"
   ]
  },
  {
   "cell_type": "code",
   "execution_count": 5,
   "id": "c936211d",
   "metadata": {},
   "outputs": [
    {
     "name": "stdout",
     "output_type": "stream",
     "text": [
      "59\n"
     ]
    }
   ],
   "source": [
    "f=open (\"datasets/corona.txt\",'r')\n",
    "a=f.readlines()\n",
    "f.close()\n",
    "l4=[]\n",
    "for ligne in a:\n",
    "   l=ligne.split(\";\")\n",
    "   if \"Local\" not in l:\n",
    "        l4.append(ligne)\n",
    "print(len(l4))\n"
   ]
  },
  {
   "cell_type": "markdown",
   "id": "d229a7f4",
   "metadata": {},
   "source": [
    "# creation un fichier des tunisiens qui revient de l'étranger\n"
   ]
  },
  {
   "cell_type": "code",
   "execution_count": 6,
   "id": "5abad720",
   "metadata": {},
   "outputs": [],
   "source": [
    "f=open(\"étranger__1.txt\",\"w\")\n",
    "f.writelines(l4)\n",
    "f.close()"
   ]
  },
  {
   "cell_type": "markdown",
   "id": "8b5f91d2",
   "metadata": {},
   "source": [
    "# #creation une liste des dates de  confirmaton des tunisiens locaux à parir fichier local__1"
   ]
  },
  {
   "cell_type": "code",
   "execution_count": 9,
   "id": "ff74ace6",
   "metadata": {},
   "outputs": [
    {
     "data": {
      "text/plain": [
       "['2020-03-22',\n",
       " '2020-03-22',\n",
       " '2020-03-22',\n",
       " '2020-03-22',\n",
       " '2020-03-22',\n",
       " '2020-03-22',\n",
       " '2020-03-21',\n",
       " '2020-03-21',\n",
       " '2020-03-21',\n",
       " '2020-03-21',\n",
       " '2020-03-21',\n",
       " '2020-03-21',\n",
       " '2020-03-21',\n",
       " '2020-03-21',\n",
       " '2020-03-21',\n",
       " '2020-03-21',\n",
       " '2020-03-21',\n",
       " '2020-03-21',\n",
       " '2020-03-20',\n",
       " '2020-03-20',\n",
       " '2020-03-20',\n",
       " '2020-03-20',\n",
       " '2020-03-20',\n",
       " '2020-03-19',\n",
       " '2020-03-19',\n",
       " '2020-03-19',\n",
       " '2020-03-19',\n",
       " '2020-03-19',\n",
       " '2020-03-19',\n",
       " '2020-03-19',\n",
       " '2020-03-19',\n",
       " '2020-03-19',\n",
       " '2020-03-19',\n",
       " '2020-03-19',\n",
       " '2020-03-19',\n",
       " '2020-03-18',\n",
       " '2020-03-18',\n",
       " '2020-03-18',\n",
       " '2020-03-18',\n",
       " '2020-03-18',\n",
       " '2020-03-18',\n",
       " '2020-03-18',\n",
       " '2020-03-18',\n",
       " '2020-03-17',\n",
       " '2020-03-17',\n",
       " '2020-03-17',\n",
       " '2020-03-16',\n",
       " '2020-03-16',\n",
       " '2020-03-15',\n",
       " '2020-03-15',\n",
       " '2020-03-14',\n",
       " '2020-03-13',\n",
       " '2020-03-12',\n",
       " '2020-03-12',\n",
       " '2020-03-11',\n",
       " '2020-03-09',\n",
       " '2020-03-09',\n",
       " '2020-03-08',\n",
       " '2020-03-02']"
      ]
     },
     "execution_count": 9,
     "metadata": {},
     "output_type": "execute_result"
    }
   ],
   "source": [
    "f= open ('étranger__1.txt','r')\n",
    "a=f.readlines()\n",
    "f.close()\n",
    "lis1=[]\n",
    "for ligne in a:\n",
    "    l=ligne.split(\";\")\n",
    "    lis1.append(l[1])\n",
    "lis1    "
   ]
  },
  {
   "cell_type": "markdown",
   "id": "0de2e32f",
   "metadata": {},
   "source": [
    "# creation une liste des dates de  confirmaton des tunisiens locaux à parir fichier local__1"
   ]
  },
  {
   "cell_type": "code",
   "execution_count": 13,
   "id": "148f4655",
   "metadata": {},
   "outputs": [
    {
     "name": "stdout",
     "output_type": "stream",
     "text": [
      "28\n"
     ]
    },
    {
     "data": {
      "text/plain": [
       "['2020-03-21',\n",
       " '2020-03-21',\n",
       " '2020-03-20',\n",
       " '2020-03-16',\n",
       " '2020-03-22',\n",
       " '2020-03-22',\n",
       " '2020-03-22',\n",
       " '2020-03-22',\n",
       " '2020-03-22',\n",
       " '2020-03-22',\n",
       " '2020-03-22',\n",
       " '2020-03-19',\n",
       " '2020-03-19',\n",
       " '2020-03-19',\n",
       " '2020-03-18',\n",
       " '2020-03-18',\n",
       " '2020-03-17',\n",
       " '2020-03-17',\n",
       " '2020-03-16',\n",
       " '2020-03-14',\n",
       " '2020-03-13',\n",
       " '2020-03-13',\n",
       " '2020-03-12',\n",
       " '2020-03-12',\n",
       " '2020-03-12',\n",
       " '2020-03-12',\n",
       " '2020-03-10',\n",
       " '2020-03-09']"
      ]
     },
     "execution_count": 13,
     "metadata": {},
     "output_type": "execute_result"
    }
   ],
   "source": [
    "f= open ('local__1.txt','r')\n",
    "a=f.readlines()\n",
    "f.close()\n",
    "lis=[]\n",
    "for ligne in a:\n",
    "    l=ligne.split(\";\")\n",
    "    lis.append(l[1])\n",
    "print(len(lis))\n",
    "lis  "
   ]
  },
  {
   "cell_type": "markdown",
   "id": "c3f61796",
   "metadata": {},
   "source": [
    "# graphique des tunisiens locaux atteints"
   ]
  },
  {
   "cell_type": "code",
   "execution_count": 15,
   "id": "aafa9496",
   "metadata": {},
   "outputs": [
    {
     "data": {
      "image/png": "[encoded data removed]",
      "text/plain": [
       "<Figure size 432x288 with 1 Axes>"
      ]
     },
     "metadata": {
      "needs_background": "light"
     },
     "output_type": "display_data"
    }
   ],
   "source": [
    "import numpy as np\n",
    "import matplotlib.pyplot as plt\n",
    "list1 = np.arange (28)# nombre des locaux\n",
    "l11=[]\n",
    "for i in reversed (lis):\n",
    "   l11.append(i)\n",
    "plt.plot(list1,l11,color='r',marker='*')\n",
    "plt.title(\"cas des tunisiens locales 2020\")\n",
    "plt.xlabel(\"nombre des tunisiens locaux malades \")\n",
    "plt.ylabel(\"date de confirmation \")\n",
    "plt.show()\n"
   ]
  },
  {
   "cell_type": "markdown",
   "id": "8ba41a96",
   "metadata": {},
   "source": [
    "# graphiques des tunisiens étrangers qui sont atteints"
   ]
  },
  {
   "cell_type": "code",
   "execution_count": 16,
   "id": "9c60da9c",
   "metadata": {},
   "outputs": [
    {
     "data": {
      "image/png": "[encoded data removed]",
      "text/plain": [
       "<Figure size 432x288 with 1 Axes>"
      ]
     },
     "metadata": {
      "needs_background": "light"
     },
     "output_type": "display_data"
    }
   ],
   "source": [
    "\n",
    "import numpy as np\n",
    "import matplotlib.pyplot as plt\n",
    "list2 = np.arange (59)# nombre des tunisiens étrangéres\n",
    "l22=[]\n",
    "for i in reversed (lis1):\n",
    "    l22.append(i)\n",
    "plt.plot(list2,l22,color='g')\n",
    "plt.title(\"cas des tunisiens qui revient de l'étranger\")\n",
    "plt.xlabel(\"nombres des tunisiens qui reviennent du l'etranger\")\n",
    "plt.ylabel(\"date de confirmation\" )\n",
    "plt.show()\n"
   ]
  },
  {
   "cell_type": "code",
   "execution_count": 21,
   "id": "f91e0242",
   "metadata": {},
   "outputs": [
    {
     "name": "stdout",
     "output_type": "stream",
     "text": [
      "['Ben Arous', 'Tunis', 'Ariana', 'Tunis', 'Mednine', 'Mednine', 'Tunis', 'Ariana', 'Ben Arous', 'Ben Arous', 'Ben Arous', 'Tunis', 'Monastir', 'Tataouine', 'Tunis', 'Ariana', 'Ariana', 'Kairouan', 'Tunis', 'Ariana', 'Tunis', 'Bizerte', 'Tunis', 'Ariana', 'Ariana', 'Ariana', 'Mahdia', 'Mahdia']\n"
     ]
    },
    {
     "data": {
      "image/png": "[encoded data removed]",
      "text/plain": [
       "<Figure size 432x288 with 1 Axes>"
      ]
     },
     "metadata": {
      "needs_background": "light"
     },
     "output_type": "display_data"
    }
   ],
   "source": [
    "f=open(\"local__1.txt\",'r')\n",
    "a=f.readlines()\n",
    "f.close()\n",
    "l5=[]\n",
    "for ligne in a:\n",
    "    l=ligne.split(\";\")\n",
    "    l5.append(l[4])\n",
    "print(l5)\n",
    "\n",
    "plt.hist(l5,20)\n",
    "plt.xlabel('les pays')\n",
    "plt.ylabel('fréquence')\n",
    "plt.title('hitogramme des régions  tunisiennes')\n",
    "plt.show()\n"
   ]
  },
  {
   "cell_type": "code",
   "execution_count": null,
   "id": "32edeb60",
   "metadata": {},
   "outputs": [],
   "source": []
  }
 ],
 "metadata": {
  "kernelspec": {
   "display_name": "Python 3 (ipykernel)",
   "language": "python",
   "name": "python3"
  },
  "language_info": {
   "codemirror_mode": {
    "name": "ipython",
    "version": 3
   },
   "file_extension": ".py",
   "mimetype": "text/x-python",
   "name": "python",
   "nbconvert_exporter": "python",
   "pygments_lexer": "ipython3",
   "version": "3.9.12"
  }
 },
 "nbformat": 4,
 "nbformat_minor": 5
}
